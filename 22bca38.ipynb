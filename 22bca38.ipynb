{
 "cells": [
  {
   "cell_type": "code",
   "execution_count": 2,
   "id": "27232e2d",
   "metadata": {},
   "outputs": [],
   "source": [
    "import csv"
   ]
  },
  {
   "cell_type": "code",
   "execution_count": 3,
   "id": "10ba538b",
   "metadata": {},
   "outputs": [],
   "source": [
    "def getstaf_record():\n",
    "    sid=int(input(\"enter staf id\"))\n",
    "    sname=input(\"staf name\")\n",
    "    salary=int(input(\"enter salary\"))\n",
    "    return[sid,sname,salary]"
   ]
  },
  {
   "cell_type": "code",
   "execution_count": 4,
   "id": "6a93a68c",
   "metadata": {},
   "outputs": [],
   "source": [
    "record=[\n",
    "    [1,'Kevin',5000],\n",
    "    [2,'om',4000],\n",
    "    [3,'Rudra',6000],\n",
    "    [4,'Raj',3000],\n",
    "    [5,'sai',4200]\n",
    "]"
   ]
  },
  {
   "cell_type": "code",
   "execution_count": 10,
   "id": "e09df8a5",
   "metadata": {},
   "outputs": [],
   "source": [
    "with open(\"staf_record.csv\",\"w\",newline='') as file:\n",
    "    writer=csv.writer(file)\n",
    "    writer.writerow([\"sid\",\"sname\",\"salary\"])\n",
    "    writer.writerow(record)"
   ]
  },
  {
   "cell_type": "code",
   "execution_count": null,
   "id": "34fe257c",
   "metadata": {
    "collapsed": true
   },
   "outputs": [],
   "source": [
    "count_s = 0\n",
    "with open('staf_record.csv', 'r') as csvfile:\n",
    "    reader = csv.DictReader(csvfile)"
   ]
  }
 ],
 "metadata": {
  "kernelspec": {
   "display_name": "Python 3 (ipykernel)",
   "language": "python",
   "name": "python3"
  },
  "language_info": {
   "codemirror_mode": {
    "name": "ipython",
    "version": 3
   },
   "file_extension": ".py",
   "mimetype": "text/x-python",
   "name": "python",
   "nbconvert_exporter": "python",
   "pygments_lexer": "ipython3",
   "version": "3.11.4"
  }
 },
 "nbformat": 4,
 "nbformat_minor": 5
}
